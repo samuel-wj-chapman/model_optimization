{
 "cells": [
  {
   "cell_type": "markdown",
   "id": "fab9d9939dc74da4",
   "metadata": {
    "collapsed": false
   },
   "source": [
    "# YOLOv8n Object Detection PyTorch Model - Quantization for IMX500\n",
    "\n",
    "[Run this tutorial in Google Colab](https://colab.research.google.com/github/sony/model_optimization/blob/main/tutorials/notebooks/pytorch/ptq/pytorch_yolov8n_for_imx500.ipynb)\n",
    "\n",
    "## Overview\n",
    "\n",
    "In this tutorial, we will illustrate a basic and quick process of preparing a pre-trained model for deployment using MCT. Specifically, we will demonstrate how to download a pre-trained YOLOv8n model from the MCT Models Library, compress it, and make it deployment-ready using MCT's post-training quantization techniques.\n",
    "\n",
    "We will use an existing pre-trained YOLOv8n model based on [Ultralytics](https://github.com/ultralytics/ultralytics). The model was slightly adjusted for model quantization. We will quantize the model using MCT post training quantization and evaluate the performance of the floating point model and the quantized model on COCO dataset.\n",
    "\n",
    "\n",
    "## Summary\n",
    "\n",
    "In this tutorial we will cover:\n",
    "\n",
    "1. Post-Training Quantization using MCT of PyTorch object detection model.\n",
    "2. Data preparation - loading and preprocessing validation and representative datasets from COCO.\n",
    "3. Accuracy evaluation of the floating-point and the quantized models."
   ]
  },
  {
   "cell_type": "markdown",
   "id": "d74f9c855ec54081",
   "metadata": {
    "collapsed": false
   },
   "source": [
    "## Setup\n",
    "### Install the relevant packages"
   ]
  },
  {
   "cell_type": "code",
   "execution_count": null,
   "id": "7c7fa04c9903736f",
   "metadata": {
    "collapsed": false
   },
   "outputs": [],
   "source": [
    "!pip install -q torch\n",
    "!pip install onnx\n",
    "!pip install -q pycocotools\n",
    "!pip install 'huggingface-hub>=0.21.0'\n",
    "!pip install --pre 'sony-custom-layers-dev>=0.2.0.dev5'"
   ]
  },
  {
   "cell_type": "markdown",
   "id": "57717bc8f59a0d85",
   "metadata": {
    "collapsed": false
   },
   "source": [
    " Clone a copy of the [MCT](https://github.com/sony/model_optimization) (Model Compression Toolkit) into your current directory. This step ensures that you have access to [MCT Models Garden](https://github.com/sony/model_optimization/tree/main/tutorials/mct_model_garden) folder which contains all the necessary utility functions for this tutorial.\n",
    "  **It's important to note that we use the most up-to-date MCT code available.**"
   ]
  },
  {
   "cell_type": "code",
   "execution_count": null,
   "id": "9728247bc20d0600",
   "metadata": {
    "collapsed": false
   },
   "outputs": [],
   "source": [
    "!git clone https://github.com/sony/model_optimization.git local_mct\n",
    "!pip install -r ./local_mct/requirements.txt\n",
    "import sys\n",
    "sys.path.insert(0,\"./local_mct\")"
   ]
  },
  {
   "cell_type": "markdown",
   "id": "7a1038b9fd98bba2",
   "metadata": {
    "collapsed": false
   },
   "source": [
    "### Download COCO evaluation set"
   ]
  },
  {
   "cell_type": "code",
   "execution_count": null,
   "id": "8bea492d71b4060f",
   "metadata": {
    "collapsed": false
   },
   "outputs": [],
   "source": [
    "!wget -nc http://images.cocodataset.org/annotations/annotations_trainval2017.zip\n",
    "!unzip -q -o annotations_trainval2017.zip -d ./coco\n",
    "!echo Done loading annotations\n",
    "!wget -nc http://images.cocodataset.org/zips/val2017.zip\n",
    "!unzip -q -o val2017.zip -d ./coco\n",
    "!echo Done loading val2017 images"
   ]
  },
  {
   "cell_type": "markdown",
   "id": "084c2b8b-3175-4d46-a18a-7c4d8b6fcb38",
   "metadata": {},
   "source": [
    "## Model Quantization\n",
    "\n",
    "### Download a Pre-Trained Model \n",
    "\n",
    "We begin by loading a pre-trained [YOLOv8n](https://huggingface.co/SSI-DNN/pytorch_yolov8n_640x640_bb_decoding) model. This implementation is based on [Ultralytics](https://github.com/ultralytics/ultralytics) and includes a slightly modified version of yolov8 detection-head (mainly the box decoding part) that was adapted for model quantization. For further insights into the model's implementation details, please refer to [MCT Models Garden - yolov8](https://github.com/sony/model_optimization/tree/main/tutorials/mct_model_garden/models_pytorch/yolov8).  "
   ]
  },
  {
   "cell_type": "code",
   "execution_count": null,
   "id": "e8395b28-4732-4d18-b081-5d3bdf508691",
   "metadata": {},
   "outputs": [],
   "source": [
    "from tutorials.mct_model_garden.models_pytorch.yolov8.yolov8 import DetectionModelPyTorch, yaml_load, model_predict\n",
    "cfg_dict = yaml_load(\"./local_mct/tutorials/mct_model_garden/models_pytorch/yolov8/yolov8n.yaml\", append_filename=True)  # model dict\n",
    "model = DetectionModelPyTorch.from_pretrained(\"SSI-DNN/pytorch_yolov8n_640x640_bb_decoding\", cfg=cfg_dict)"
   ]
  },
  {
   "cell_type": "markdown",
   "id": "3cde2f8e-0642-4374-a1f4-df2775fe7767",
   "metadata": {},
   "source": [
    "### Post training quantization using Model Compression Toolkit \n",
    "\n",
    "Now, we're all set to use MCT's post-training quantization. To begin, we'll define a representative dataset and proceed with the model quantization. Please note that, for demonstration purposes, we'll use the evaluation dataset as our representative dataset. We'll calibrate the model using 100 representative images, divided into 20 iterations of 'batch_size' images each. \n",
    "\n",
    "Additionally, to further compress the model's memory footprint, we will employ the mixed-precision quantization technique. This method allows each layer to be quantized with different precision options: 2, 4, and 8 bits, aligning with the imx500 target platform capabilities."
   ]
  },
  {
   "cell_type": "code",
   "execution_count": null,
   "id": "56393342-cecf-4f64-b9ca-2f515c765942",
   "metadata": {
    "collapsed": false
   },
   "outputs": [],
   "source": [
    "import model_compression_toolkit as mct\n",
    "from tutorials.mct_model_garden.evaluation_metrics.coco_evaluation import coco_dataset_generator\n",
    "from tutorials.mct_model_garden.models_pytorch.yolov8.yolov8_preprocess import yolov8_preprocess_chw_transpose\n",
    "from typing import Iterator, Tuple, List\n",
    "\n",
    "REPRESENTATIVE_DATASET_FOLDER = './coco/val2017/'\n",
    "REPRESENTATIVE_DATASET_ANNOTATION_FILE = './coco/annotations/instances_val2017.json'\n",
    "BATCH_SIZE = 4\n",
    "n_iters = 20\n",
    "\n",
    "# Load representative dataset\n",
    "representative_dataset = coco_dataset_generator(dataset_folder=REPRESENTATIVE_DATASET_FOLDER,\n",
    "                                                annotation_file=REPRESENTATIVE_DATASET_ANNOTATION_FILE,\n",
    "                                                preprocess=yolov8_preprocess_chw_transpose,\n",
    "                                                batch_size=BATCH_SIZE)\n",
    "\n",
    "# Define representative dataset generator\n",
    "def get_representative_dataset(n_iter: int, dataset_loader: Iterator[Tuple]):\n",
    "    \"\"\"\n",
    "    This function creates a representative dataset generator. The generator yields numpy\n",
    "        arrays of batches of shape: [Batch, H, W ,C].\n",
    "    Args:\n",
    "        n_iter: number of iterations for MCT to calibrate on\n",
    "    Returns:\n",
    "        A representative dataset generator\n",
    "    \"\"\"       \n",
    "    def representative_dataset() -> Iterator[List]:\n",
    "        ds_iter = iter(dataset_loader)\n",
    "        for _ in range(n_iter):\n",
    "            yield [next(ds_iter)[0]]\n",
    "\n",
    "    return representative_dataset\n",
    "\n",
    "# Get representative dataset generator\n",
    "representative_dataset_gen = get_representative_dataset(n_iter=n_iters,\n",
    "                                                        dataset_loader=representative_dataset)\n",
    "\n",
    "# Set IMX500-v1 TPC\n",
    "tpc = mct.get_target_platform_capabilities(fw_name=\"pytorch\",\n",
    "                                           target_platform_name='imx500',\n",
    "                                           target_platform_version='v1')\n",
    "\n",
    "# Specify the necessary configuration for mixed precision quantization. To keep the tutorial brief, we'll use a small set of images and omit the hessian metric for mixed precision calculations. It's important to be aware that this choice may impact the resulting accuracy. \n",
    "mp_config = mct.core.MixedPrecisionQuantizationConfig(num_of_images=5,\n",
    "                                                      use_hessian_based_scores=False)\n",
    "config = mct.core.CoreConfig(mixed_precision_config=mp_config,\n",
    "                             quantization_config=mct.core.QuantizationConfig(shift_negative_activation_correction=True))\n",
    "\n",
    "# Define target Resource Utilization for mixed precision weights quantization (75% of 'standard' 8bits quantization)\n",
    "resource_utilization_data = mct.core.pytorch_resource_utilization_data(in_model=model,\n",
    "                                                                       representative_data_gen=\n",
    "                                                                       representative_dataset_gen,\n",
    "                                                                       core_config=config,\n",
    "                                                                       target_platform_capabilities=tpc)\n",
    "resource_utilization = mct.core.ResourceUtilization(weights_memory=resource_utilization_data.weights_memory * 0.75)\n",
    "\n",
    "# Perform post training quantization\n",
    "quant_model, _ = mct.ptq.pytorch_post_training_quantization(in_module=model,\n",
    "                                                            representative_data_gen=\n",
    "                                                            representative_dataset_gen,\n",
    "                                                            target_resource_utilization=resource_utilization,\n",
    "                                                            core_config=config,\n",
    "                                                            target_platform_capabilities=tpc)\n",
    "print('Quantized model is ready')\n",
    "\n",
    "# Wrapped the quantized model with PostProcess NMS.\n",
    "from tutorials.mct_model_garden.models_pytorch.yolov8.yolov8 import PostProcessWrapper\n",
    "\n",
    "# Define PostProcess params\n",
    "score_threshold = 0.001\n",
    "iou_threshold = 0.7\n",
    "max_detections = 300\n",
    "\n",
    "# Get working device\n",
    "from model_compression_toolkit.core.pytorch.pytorch_device_config import get_working_device\n",
    "device = get_working_device()\n",
    "\n",
    "quant_model_pp = PostProcessWrapper(model=quant_model,\n",
    "                                    score_threshold=score_threshold,\n",
    "                                    iou_threshold=iou_threshold,\n",
    "                                    max_detections=max_detections).to(device=device)"
   ]
  },
  {
   "cell_type": "markdown",
   "id": "3be2016acdc9da60",
   "metadata": {
    "collapsed": false
   },
   "source": [
    "### Model Export\n",
    "\n",
    "Now, we can export the quantized model, ready for deployment, into a `.onnx` format file. Please ensure that the `save_model_path` has been set correctly. "
   ]
  },
  {
   "cell_type": "code",
   "execution_count": null,
   "id": "72dd885c7b92fa93",
   "metadata": {
    "collapsed": false
   },
   "outputs": [],
   "source": [
    "mct.exporter.pytorch_export_model(model=quant_model_pp,\n",
    "                                  save_model_path='./qmodel_pp.onnx',\n",
    "                                  repr_dataset=representative_dataset_gen)"
   ]
  },
  {
   "cell_type": "markdown",
   "id": "015e760b-6555-45b4-aaf9-500e974c1d86",
   "metadata": {},
   "source": [
    "## Evaluation on COCO dataset\n",
    "\n",
    "### Floating point model evaluation\n",
    "Next, we evaluate the floating point model by using `cocoeval` library alongside additional dataset utilities. We can verify the mAP accuracy aligns with that of the original model. \n",
    "Note that we set the \"batch_size\" to 4 and the preprocessing according to [Ultralytics](https://github.com/ultralytics/ultralytics).\n",
    "Please ensure that the dataset path has been set correctly before running this code cell."
   ]
  },
  {
   "cell_type": "code",
   "execution_count": null,
   "id": "01e90967-594b-480f-b2e6-45e2c9ce9cee",
   "metadata": {},
   "outputs": [],
   "source": [
    "from tutorials.mct_model_garden.evaluation_metrics.coco_evaluation import coco_evaluate\n",
    "\n",
    "EVAL_DATASET_FOLDER = './coco/val2017'\n",
    "EVAL_DATASET_ANNOTATION_FILE = './coco/annotations/instances_val2017.json'\n",
    "INPUT_RESOLUTION = 640\n",
    "\n",
    "# Define resizing information to map between the model's output and the original image dimensions\n",
    "output_resize = {'shape': (INPUT_RESOLUTION, INPUT_RESOLUTION), 'aspect_ratio_preservation': True}\n",
    "\n",
    "# Wrapped the model with PostProcess NMS.\n",
    "# Define PostProcess params\n",
    "score_threshold = 0.001\n",
    "iou_threshold = 0.7\n",
    "max_detections = 300\n",
    "\n",
    "model_pp = PostProcessWrapper(model=model,\n",
    "                              score_threshold=score_threshold,\n",
    "                              iou_threshold=iou_threshold,\n",
    "                              max_detections=max_detections).to(device=device)\n",
    "\n",
    "# Evaluate the model on coco\n",
    "eval_results = coco_evaluate(model=model_pp,\n",
    "                             dataset_folder=EVAL_DATASET_FOLDER,\n",
    "                             annotation_file=EVAL_DATASET_ANNOTATION_FILE,\n",
    "                             preprocess=yolov8_preprocess_chw_transpose,\n",
    "                             output_resize=output_resize,\n",
    "                             batch_size=BATCH_SIZE,\n",
    "                             model_inference=model_predict)\n",
    "\n",
    "# Print float model mAP results\n",
    "print(\"Float model mAP: {:.4f}\".format(eval_results[0]))"
   ]
  },
  {
   "cell_type": "markdown",
   "id": "4fb6bffc-23d1-4852-8ec5-9007361c8eeb",
   "metadata": {},
   "source": [
    "### Quantized model evaluation\n",
    "Lastly, we can evaluate the performance of the quantized model. There is a slight decrease in performance that can be further mitigated by either expanding the representative dataset or employing MCT's advanced quantization methods, such as GPTQ (Gradient-Based/Enhanced Post Training Quantization)."
   ]
  },
  {
   "cell_type": "code",
   "execution_count": null,
   "id": "8dc7b87c-a9f4-4568-885a-fe009c8f4e8f",
   "metadata": {},
   "outputs": [],
   "source": [
    "# Evaluate the quantized model with PostProcess on coco\n",
    "eval_results = coco_evaluate(model=quant_model_pp,\n",
    "                             dataset_folder=EVAL_DATASET_FOLDER,\n",
    "                             annotation_file=EVAL_DATASET_ANNOTATION_FILE,\n",
    "                             preprocess=yolov8_preprocess_chw_transpose,\n",
    "                             output_resize=output_resize,\n",
    "                             batch_size=BATCH_SIZE,\n",
    "                             model_inference=model_predict)\n",
    "\n",
    "# Print quantized model mAP results\n",
    "print(\"Quantized model mAP: {:.4f}\".format(eval_results[0]))"
   ]
  },
  {
   "cell_type": "markdown",
   "id": "6d93352843a27433",
   "metadata": {
    "collapsed": false
   },
   "source": [
    "\\\n",
    "Copyright 2024 Sony Semiconductor Israel, Inc. All rights reserved.\n",
    "\n",
    "Licensed under the Apache License, Version 2.0 (the \"License\");\n",
    "you may not use this file except in compliance with the License.\n",
    "You may obtain a copy of the License at\n",
    "\n",
    "    http://www.apache.org/licenses/LICENSE-2.0\n",
    "\n",
    "Unless required by applicable law or agreed to in writing, software\n",
    "distributed under the License is distributed on an \"AS IS\" BASIS,\n",
    "WITHOUT WARRANTIES OR CONDITIONS OF ANY KIND, either express or implied.\n",
    "See the License for the specific language governing permissions and\n",
    "limitations under the License."
   ]
  }
 ],
 "metadata": {
  "colab": {
   "provenance": []
  },
  "kernelspec": {
   "display_name": "Python 3 (ipykernel)",
   "language": "python",
   "name": "python3"
  },
  "language_info": {
   "codemirror_mode": {
    "name": "ipython",
    "version": 3
   },
   "file_extension": ".py",
   "mimetype": "text/x-python",
   "name": "python",
   "nbconvert_exporter": "python",
   "pygments_lexer": "ipython3",
   "version": "3.11.4"
  }
 },
 "nbformat": 4,
 "nbformat_minor": 5
}
